{
 "cells": [
  {
   "cell_type": "code",
   "execution_count": 7,
   "id": "47d450c9",
   "metadata": {},
   "outputs": [
    {
     "name": "stdout",
     "output_type": "stream",
     "text": [
      "Укажите количество минут 564\n",
      "9\n",
      "24\n"
     ]
    }
   ],
   "source": [
    "X = int(input('Укажите количество минут '))\n",
    "print(X // 60)\n",
    "print(X % 60)"
   ]
  },
  {
   "cell_type": "code",
   "execution_count": 2,
   "id": "cd501335",
   "metadata": {},
   "outputs": [
    {
     "name": "stdout",
     "output_type": "stream",
     "text": [
      "9\n",
      "2\n"
     ]
    }
   ],
   "source": [
    "Sleep_min = int(input())\n",
    "Hours_now = int(input())\n",
    "Minute_now = int(input())\n",
    "hts = Sleep_min//60\n",
    "mts = Sleep_min%60\n",
    "\n",
    "wuh = Hours_now + hts\n",
    "wum = Minute_now + mts\n",
    "\n",
    "if wum >= 60:\n",
    "    wuh +=1 \n",
    "    wum -= 60\n",
    "\n",
    "print(wuh)\n",
    "print(wum)"
   ]
  }
 ],
 "metadata": {
  "kernelspec": {
   "display_name": "Python 3 (ipykernel)",
   "language": "python",
   "name": "python3"
  },
  "language_info": {
   "codemirror_mode": {
    "name": "ipython",
    "version": 3
   },
   "file_extension": ".py",
   "mimetype": "text/x-python",
   "name": "python",
   "nbconvert_exporter": "python",
   "pygments_lexer": "ipython3",
   "version": "3.10.11"
  }
 },
 "nbformat": 4,
 "nbformat_minor": 5
}
